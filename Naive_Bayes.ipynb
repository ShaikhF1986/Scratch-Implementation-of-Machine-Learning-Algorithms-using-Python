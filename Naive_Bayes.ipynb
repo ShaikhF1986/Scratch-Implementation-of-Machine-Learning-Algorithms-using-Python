{
 "cells": [
  {
   "cell_type": "markdown",
   "metadata": {},
   "source": [
    "## Naive Bayes on iris dataset from scretch"
   ]
  },
  {
   "cell_type": "code",
   "execution_count": 576,
   "metadata": {},
   "outputs": [],
   "source": [
    "import pandas as pd\n",
    "import numpy as np\n",
    "import math"
   ]
  },
  {
   "cell_type": "code",
   "execution_count": 577,
   "metadata": {},
   "outputs": [],
   "source": [
    "data = pd.read_csv('iris.csv')"
   ]
  },
  {
   "cell_type": "code",
   "execution_count": 578,
   "metadata": {},
   "outputs": [
    {
     "data": {
      "text/html": [
       "<div>\n",
       "<style scoped>\n",
       "    .dataframe tbody tr th:only-of-type {\n",
       "        vertical-align: middle;\n",
       "    }\n",
       "\n",
       "    .dataframe tbody tr th {\n",
       "        vertical-align: top;\n",
       "    }\n",
       "\n",
       "    .dataframe thead th {\n",
       "        text-align: right;\n",
       "    }\n",
       "</style>\n",
       "<table border=\"1\" class=\"dataframe\">\n",
       "  <thead>\n",
       "    <tr style=\"text-align: right;\">\n",
       "      <th></th>\n",
       "      <th>sepal_length</th>\n",
       "      <th>sepal_width</th>\n",
       "      <th>petal_length</th>\n",
       "      <th>petal_width</th>\n",
       "      <th>species</th>\n",
       "    </tr>\n",
       "  </thead>\n",
       "  <tbody>\n",
       "    <tr>\n",
       "      <th>0</th>\n",
       "      <td>5.1</td>\n",
       "      <td>3.5</td>\n",
       "      <td>1.4</td>\n",
       "      <td>0.2</td>\n",
       "      <td>setosa</td>\n",
       "    </tr>\n",
       "    <tr>\n",
       "      <th>1</th>\n",
       "      <td>4.9</td>\n",
       "      <td>3.0</td>\n",
       "      <td>1.4</td>\n",
       "      <td>0.2</td>\n",
       "      <td>setosa</td>\n",
       "    </tr>\n",
       "    <tr>\n",
       "      <th>2</th>\n",
       "      <td>4.7</td>\n",
       "      <td>3.2</td>\n",
       "      <td>1.3</td>\n",
       "      <td>0.2</td>\n",
       "      <td>setosa</td>\n",
       "    </tr>\n",
       "    <tr>\n",
       "      <th>3</th>\n",
       "      <td>4.6</td>\n",
       "      <td>3.1</td>\n",
       "      <td>1.5</td>\n",
       "      <td>0.2</td>\n",
       "      <td>setosa</td>\n",
       "    </tr>\n",
       "    <tr>\n",
       "      <th>4</th>\n",
       "      <td>5.0</td>\n",
       "      <td>3.6</td>\n",
       "      <td>1.4</td>\n",
       "      <td>0.2</td>\n",
       "      <td>setosa</td>\n",
       "    </tr>\n",
       "  </tbody>\n",
       "</table>\n",
       "</div>"
      ],
      "text/plain": [
       "   sepal_length  sepal_width  petal_length  petal_width species\n",
       "0           5.1          3.5           1.4          0.2  setosa\n",
       "1           4.9          3.0           1.4          0.2  setosa\n",
       "2           4.7          3.2           1.3          0.2  setosa\n",
       "3           4.6          3.1           1.5          0.2  setosa\n",
       "4           5.0          3.6           1.4          0.2  setosa"
      ]
     },
     "execution_count": 578,
     "metadata": {},
     "output_type": "execute_result"
    }
   ],
   "source": [
    "data.head()"
   ]
  },
  {
   "cell_type": "code",
   "execution_count": 579,
   "metadata": {},
   "outputs": [
    {
     "data": {
      "text/html": [
       "<div>\n",
       "<style scoped>\n",
       "    .dataframe tbody tr th:only-of-type {\n",
       "        vertical-align: middle;\n",
       "    }\n",
       "\n",
       "    .dataframe tbody tr th {\n",
       "        vertical-align: top;\n",
       "    }\n",
       "\n",
       "    .dataframe thead th {\n",
       "        text-align: right;\n",
       "    }\n",
       "</style>\n",
       "<table border=\"1\" class=\"dataframe\">\n",
       "  <thead>\n",
       "    <tr style=\"text-align: right;\">\n",
       "      <th></th>\n",
       "      <th>sepal_length</th>\n",
       "      <th>sepal_width</th>\n",
       "      <th>petal_length</th>\n",
       "      <th>petal_width</th>\n",
       "    </tr>\n",
       "  </thead>\n",
       "  <tbody>\n",
       "    <tr>\n",
       "      <th>count</th>\n",
       "      <td>150.000000</td>\n",
       "      <td>150.000000</td>\n",
       "      <td>150.000000</td>\n",
       "      <td>150.000000</td>\n",
       "    </tr>\n",
       "    <tr>\n",
       "      <th>mean</th>\n",
       "      <td>5.843333</td>\n",
       "      <td>3.054000</td>\n",
       "      <td>3.758667</td>\n",
       "      <td>1.198667</td>\n",
       "    </tr>\n",
       "    <tr>\n",
       "      <th>std</th>\n",
       "      <td>0.828066</td>\n",
       "      <td>0.433594</td>\n",
       "      <td>1.764420</td>\n",
       "      <td>0.763161</td>\n",
       "    </tr>\n",
       "    <tr>\n",
       "      <th>min</th>\n",
       "      <td>4.300000</td>\n",
       "      <td>2.000000</td>\n",
       "      <td>1.000000</td>\n",
       "      <td>0.100000</td>\n",
       "    </tr>\n",
       "    <tr>\n",
       "      <th>25%</th>\n",
       "      <td>5.100000</td>\n",
       "      <td>2.800000</td>\n",
       "      <td>1.600000</td>\n",
       "      <td>0.300000</td>\n",
       "    </tr>\n",
       "    <tr>\n",
       "      <th>50%</th>\n",
       "      <td>5.800000</td>\n",
       "      <td>3.000000</td>\n",
       "      <td>4.350000</td>\n",
       "      <td>1.300000</td>\n",
       "    </tr>\n",
       "    <tr>\n",
       "      <th>75%</th>\n",
       "      <td>6.400000</td>\n",
       "      <td>3.300000</td>\n",
       "      <td>5.100000</td>\n",
       "      <td>1.800000</td>\n",
       "    </tr>\n",
       "    <tr>\n",
       "      <th>max</th>\n",
       "      <td>7.900000</td>\n",
       "      <td>4.400000</td>\n",
       "      <td>6.900000</td>\n",
       "      <td>2.500000</td>\n",
       "    </tr>\n",
       "  </tbody>\n",
       "</table>\n",
       "</div>"
      ],
      "text/plain": [
       "       sepal_length  sepal_width  petal_length  petal_width\n",
       "count    150.000000   150.000000    150.000000   150.000000\n",
       "mean       5.843333     3.054000      3.758667     1.198667\n",
       "std        0.828066     0.433594      1.764420     0.763161\n",
       "min        4.300000     2.000000      1.000000     0.100000\n",
       "25%        5.100000     2.800000      1.600000     0.300000\n",
       "50%        5.800000     3.000000      4.350000     1.300000\n",
       "75%        6.400000     3.300000      5.100000     1.800000\n",
       "max        7.900000     4.400000      6.900000     2.500000"
      ]
     },
     "execution_count": 579,
     "metadata": {},
     "output_type": "execute_result"
    }
   ],
   "source": [
    "data.describe()"
   ]
  },
  {
   "cell_type": "code",
   "execution_count": 580,
   "metadata": {},
   "outputs": [],
   "source": [
    "#calculating the mean according to class\n",
    "data_mean = data.groupby('species', as_index=False)['sepal_length','sepal_width','petal_length','petal_width'].mean()"
   ]
  },
  {
   "cell_type": "code",
   "execution_count": 581,
   "metadata": {},
   "outputs": [
    {
     "data": {
      "text/html": [
       "<div>\n",
       "<style scoped>\n",
       "    .dataframe tbody tr th:only-of-type {\n",
       "        vertical-align: middle;\n",
       "    }\n",
       "\n",
       "    .dataframe tbody tr th {\n",
       "        vertical-align: top;\n",
       "    }\n",
       "\n",
       "    .dataframe thead th {\n",
       "        text-align: right;\n",
       "    }\n",
       "</style>\n",
       "<table border=\"1\" class=\"dataframe\">\n",
       "  <thead>\n",
       "    <tr style=\"text-align: right;\">\n",
       "      <th></th>\n",
       "      <th>species</th>\n",
       "      <th>sepal_length</th>\n",
       "      <th>sepal_width</th>\n",
       "      <th>petal_length</th>\n",
       "      <th>petal_width</th>\n",
       "    </tr>\n",
       "  </thead>\n",
       "  <tbody>\n",
       "    <tr>\n",
       "      <th>0</th>\n",
       "      <td>setosa</td>\n",
       "      <td>5.006</td>\n",
       "      <td>3.418</td>\n",
       "      <td>1.464</td>\n",
       "      <td>0.244</td>\n",
       "    </tr>\n",
       "    <tr>\n",
       "      <th>1</th>\n",
       "      <td>versicolor</td>\n",
       "      <td>5.936</td>\n",
       "      <td>2.770</td>\n",
       "      <td>4.260</td>\n",
       "      <td>1.326</td>\n",
       "    </tr>\n",
       "    <tr>\n",
       "      <th>2</th>\n",
       "      <td>virginica</td>\n",
       "      <td>6.588</td>\n",
       "      <td>2.974</td>\n",
       "      <td>5.552</td>\n",
       "      <td>2.026</td>\n",
       "    </tr>\n",
       "  </tbody>\n",
       "</table>\n",
       "</div>"
      ],
      "text/plain": [
       "      species  sepal_length  sepal_width  petal_length  petal_width\n",
       "0      setosa         5.006        3.418         1.464        0.244\n",
       "1  versicolor         5.936        2.770         4.260        1.326\n",
       "2   virginica         6.588        2.974         5.552        2.026"
      ]
     },
     "execution_count": 581,
     "metadata": {},
     "output_type": "execute_result"
    }
   ],
   "source": [
    "data_mean"
   ]
  },
  {
   "cell_type": "code",
   "execution_count": 582,
   "metadata": {},
   "outputs": [],
   "source": [
    "#calculating the standard deviation according to class\n",
    "data_std = data.groupby('species').std()#['sepal_length','sepal_width','petal_length','petal_width'].stdev()"
   ]
  },
  {
   "cell_type": "code",
   "execution_count": 583,
   "metadata": {},
   "outputs": [
    {
     "data": {
      "text/html": [
       "<div>\n",
       "<style scoped>\n",
       "    .dataframe tbody tr th:only-of-type {\n",
       "        vertical-align: middle;\n",
       "    }\n",
       "\n",
       "    .dataframe tbody tr th {\n",
       "        vertical-align: top;\n",
       "    }\n",
       "\n",
       "    .dataframe thead th {\n",
       "        text-align: right;\n",
       "    }\n",
       "</style>\n",
       "<table border=\"1\" class=\"dataframe\">\n",
       "  <thead>\n",
       "    <tr style=\"text-align: right;\">\n",
       "      <th></th>\n",
       "      <th>sepal_length</th>\n",
       "      <th>sepal_width</th>\n",
       "      <th>petal_length</th>\n",
       "      <th>petal_width</th>\n",
       "    </tr>\n",
       "    <tr>\n",
       "      <th>species</th>\n",
       "      <th></th>\n",
       "      <th></th>\n",
       "      <th></th>\n",
       "      <th></th>\n",
       "    </tr>\n",
       "  </thead>\n",
       "  <tbody>\n",
       "    <tr>\n",
       "      <th>setosa</th>\n",
       "      <td>0.352490</td>\n",
       "      <td>0.381024</td>\n",
       "      <td>0.173511</td>\n",
       "      <td>0.107210</td>\n",
       "    </tr>\n",
       "    <tr>\n",
       "      <th>versicolor</th>\n",
       "      <td>0.516171</td>\n",
       "      <td>0.313798</td>\n",
       "      <td>0.469911</td>\n",
       "      <td>0.197753</td>\n",
       "    </tr>\n",
       "    <tr>\n",
       "      <th>virginica</th>\n",
       "      <td>0.635880</td>\n",
       "      <td>0.322497</td>\n",
       "      <td>0.551895</td>\n",
       "      <td>0.274650</td>\n",
       "    </tr>\n",
       "  </tbody>\n",
       "</table>\n",
       "</div>"
      ],
      "text/plain": [
       "            sepal_length  sepal_width  petal_length  petal_width\n",
       "species                                                         \n",
       "setosa          0.352490     0.381024      0.173511     0.107210\n",
       "versicolor      0.516171     0.313798      0.469911     0.197753\n",
       "virginica       0.635880     0.322497      0.551895     0.274650"
      ]
     },
     "execution_count": 583,
     "metadata": {},
     "output_type": "execute_result"
    }
   ],
   "source": [
    "data_std"
   ]
  },
  {
   "cell_type": "code",
   "execution_count": 584,
   "metadata": {},
   "outputs": [],
   "source": [
    "import math\n",
    "def calculateProbability(x, mean, stdev):\n",
    "    exponent = math.exp(-(math.pow(x-mean,2)/(2*math.pow(stdev,2))))\n",
    "    return (1 / (math.sqrt(2*math.pi) * stdev)) * exponent*10000000"
   ]
  },
  {
   "cell_type": "code",
   "execution_count": 585,
   "metadata": {},
   "outputs": [],
   "source": [
    "# suffle the dataset\n",
    "df = data.sample(frac=1)"
   ]
  },
  {
   "cell_type": "code",
   "execution_count": 586,
   "metadata": {},
   "outputs": [],
   "source": [
    "x,y = df[['sepal_length','petal_width']],df['species']"
   ]
  },
  {
   "cell_type": "code",
   "execution_count": 587,
   "metadata": {},
   "outputs": [],
   "source": [
    "x_train,y_train,x_test,y_test = x.head(105),y.head(105),x.tail(45),y.tail(45)"
   ]
  },
  {
   "cell_type": "code",
   "execution_count": 588,
   "metadata": {},
   "outputs": [
    {
     "data": {
      "text/plain": [
       "0.3524896872134513"
      ]
     },
     "execution_count": 588,
     "metadata": {},
     "output_type": "execute_result"
    }
   ],
   "source": [
    "data_std['sepal_length'].head(1).values[0]"
   ]
  },
  {
   "cell_type": "code",
   "execution_count": 589,
   "metadata": {},
   "outputs": [],
   "source": [
    "#make prediction\n",
    "s1 = 0.516171\n",
    "m1 = 5.936\n",
    "s2 = 0.197753\n",
    "m2 = 1.326\n",
    "d = x_test.values\n",
    "#count = 0\n",
    "probability = []\n",
    "for j in d:\n",
    "    itr=0\n",
    "    prob=[0,0,0]\n",
    "    for k in j:\n",
    "        if itr == 0:\n",
    "            prob[0] = calculateProbability(k, data_mean['sepal_length'].head(1).values[0], data_std['sepal_length'].head(1).values[0]) #for setosa class\n",
    "            prob[1] = calculateProbability(k,m1,s1) #for versicolor class\n",
    "            prob[2] = calculateProbability(k, data_mean['sepal_length'].tail(1).values[0], data_std['sepal_length'].tail(1).values[0]) #for virginica class\n",
    "            \n",
    "            \n",
    "        if itr==1:\n",
    "            prob[0] = prob[0]*calculateProbability(k, data_mean['petal_width'].head(1).values[0], data_std['petal_width'].head(1).values[0]) #for setosa class\n",
    "            #print(calculateProbability(k, data_mean['petal_width'].head(1).values[0], data_std['petal_width'].head(1).values))\n",
    "            prob[1] = prob[1]*calculateProbability(k,m2,s2) # for varsicolor\n",
    "           # count = count+1\n",
    "            prob[2] = prob[2]*calculateProbability(k, data_mean['petal_width'].tail(1).values[0], data_std['petal_width'].tail(1).values[0])#for virginica\n",
    "        itr = itr +1\n",
    "    probability.append(prob)\n",
    "#print(count)"
   ]
  },
  {
   "cell_type": "code",
   "execution_count": 590,
   "metadata": {},
   "outputs": [
    {
     "data": {
      "text/plain": [
       "[[373613198234237.06, 3829056.2031202544, 1486.7558854973622],\n",
       " [163324056087908.16, 93743.71533255395, 56.36752045698178],\n",
       " [332727790210559.9, 5142952.876569097, 2121.737369966564],\n",
       " [5.188840818469456e-08, 139237609107789.66, 1044478238836.9751],\n",
       " [8.654588943537078e-16, 63556282137252.35, 6784199473566.655],\n",
       " [387080932312434.5, 2745810.618786444, 1016.3585826240395],\n",
       " [23488963957175.176, 6835690518.230397, 1166945.452198019],\n",
       " [1.4476507415988698e-10, 103200003123457.78, 2650916044568.6646],\n",
       " [78229715387648.95, 1575439966.9885545, 389781.3274345598],\n",
       " [1.201074780395453e-78, 2449371.3857299197, 12008108892425.799],\n",
       " [6413.593690289248, 5345938530091.289, 2506877536.3911066],\n",
       " [5.391929130713893e-59, 336246019.9784985, 10796759652372.514],\n",
       " [2.3046757510467244e-16, 48615408250122.305, 6680967282442.089],\n",
       " [146862680557909.72, 254217.61746236932, 176.44406452285133],\n",
       " [1.433958550229528e-33, 8749744705448.756, 42360015289287.67],\n",
       " [30624245723316.715, 13728714.623316491, 10662.220722726284],\n",
       " [4.841159630994087e-57, 1362493540.397651, 19662972427261.55],\n",
       " [354610260401772.75, 59985133.98727477, 15658.510000562666],\n",
       " [265594509538112.75, 808360.2646914687, 279.91382394432634],\n",
       " [6.290737297797612e-48, 41360042763.76682, 36297028474825.45],\n",
       " [387080932312434.5, 2745810.618786444, 1016.3585826240395],\n",
       " [7.580836647780526e-77, 47857773.8471522, 32543319333243.758],\n",
       " [5.188840818469456e-08, 139237609107789.66, 1044478238836.9751],\n",
       " [0.00018037323979609745, 122934396709215.28, 459339870172.26416],\n",
       " [966.0366160692389, 36089936007438.78, 32052345412.84702],\n",
       " [2.330405056406969e-69, 561917171.724497, 53035168746943.3],\n",
       " [7.738962292198561e-41, 1800606636084.3965, 74031992056594.22],\n",
       " [7.844793845824766e-19, 82566100654450.62, 13141865711391.852],\n",
       " [3.6182964504855395e-31, 8719353385577.935, 44360177270267.44],\n",
       " [387080932312434.5, 2745810.618786444, 1016.3585826240395],\n",
       " [2513.2861818736465, 28044500852253.242, 19661770822.067223],\n",
       " [3.120673607347923e-72, 147146375.189021, 49121049317478.24],\n",
       " [1.376550320048581e-71, 207364700.49890682, 52409304435771.4],\n",
       " [373613198234237.06, 3829056.2031202544, 1486.7558854973622],\n",
       " [1.3069268086221443e-11, 67578988379636.53, 2768851668344.0273],\n",
       " [6.178628416294943e-79, 20521846.975727722, 35503345717719.734],\n",
       " [8.713072107088199e-08, 125065503819274.1, 828230420532.9644],\n",
       " [3.065478355947309e-33, 8795842244405.7, 36176798807042.98],\n",
       " [4.2701164078431526e-10, 120548882107405.8, 2499384043902.434],\n",
       " [145000093407602.88, 9948848.479260804, 5316.220847012048],\n",
       " [141004134793995.12, 727680131.1679388, 144439.97252921204],\n",
       " [163324056087908.16, 93743.71533255395, 56.36752045698178],\n",
       " [9.055871210222578e-35, 6876177696188.401, 58625902266057.24],\n",
       " [530.8099587933046, 38699448459440.94, 39433677858.27899],\n",
       " [4.562592723556338e-71, 26013747.423622414, 16159947279229.992]]"
      ]
     },
     "execution_count": 590,
     "metadata": {},
     "output_type": "execute_result"
    }
   ],
   "source": [
    "#probability of each class for test dataset\n",
    "probability"
   ]
  },
  {
   "cell_type": "code",
   "execution_count": 591,
   "metadata": {},
   "outputs": [],
   "source": [
    "y_hat = []\n",
    "for i in probability:\n",
    "    num1 = i[0]\n",
    "    num2 = i[1]\n",
    "    num3 = i[2]\n",
    "    if (num1 >= num2) and (num1 >= num3):\n",
    "        y_hat.append(\"setosa\")# = num1\n",
    "    elif (num2 >= num1) and (num2 >= num3):\n",
    "        y_hat.append(\"versicolor\")#largest = num2\n",
    "    else:\n",
    "        y_hat.append(\"virginica\")"
   ]
  },
  {
   "cell_type": "code",
   "execution_count": 592,
   "metadata": {},
   "outputs": [
    {
     "data": {
      "text/plain": [
       "['setosa',\n",
       " 'setosa',\n",
       " 'setosa',\n",
       " 'versicolor',\n",
       " 'versicolor',\n",
       " 'setosa',\n",
       " 'setosa',\n",
       " 'versicolor',\n",
       " 'setosa',\n",
       " 'virginica',\n",
       " 'versicolor',\n",
       " 'virginica',\n",
       " 'versicolor',\n",
       " 'setosa',\n",
       " 'virginica',\n",
       " 'setosa',\n",
       " 'virginica',\n",
       " 'setosa',\n",
       " 'setosa',\n",
       " 'virginica',\n",
       " 'setosa',\n",
       " 'virginica',\n",
       " 'versicolor',\n",
       " 'versicolor',\n",
       " 'versicolor',\n",
       " 'virginica',\n",
       " 'virginica',\n",
       " 'versicolor',\n",
       " 'virginica',\n",
       " 'setosa',\n",
       " 'versicolor',\n",
       " 'virginica',\n",
       " 'virginica',\n",
       " 'setosa',\n",
       " 'versicolor',\n",
       " 'virginica',\n",
       " 'versicolor',\n",
       " 'virginica',\n",
       " 'versicolor',\n",
       " 'setosa',\n",
       " 'setosa',\n",
       " 'setosa',\n",
       " 'virginica',\n",
       " 'versicolor',\n",
       " 'virginica']"
      ]
     },
     "execution_count": 592,
     "metadata": {},
     "output_type": "execute_result"
    }
   ],
   "source": [
    "y_hat"
   ]
  },
  {
   "cell_type": "code",
   "execution_count": 594,
   "metadata": {},
   "outputs": [
    {
     "name": "stdout",
     "output_type": "stream",
     "text": [
      "Number of correctly classified points using Sklearn Implementation of Navie Bayes:  43\n",
      "Number of incorrectly classified points using Sklearn Implementation of Navie Bayes:  2\n",
      "Accuracy : 0.9555555555555556\n"
     ]
    }
   ],
   "source": [
    "true_predicted = 0\n",
    "false_predicted = 0\n",
    "y = y_test.values\n",
    "for d in range(0,45):\n",
    "    if y[d]==y_hat[d]:\n",
    "        true_predicted+=1\n",
    "    else:\n",
    "        false_predicted+=1\n",
    "print(\"Number of correctly classified points using Sklearn Implementation of Navie Bayes: \",true_predicted)\n",
    "print(\"Number of incorrectly classified points using Sklearn Implementation of Navie Bayes: \",false_predicted)\n",
    "print(\"Accuracy :\",true_predicted/(true_predicted+false_predicted))"
   ]
  },
  {
   "cell_type": "markdown",
   "metadata": {},
   "source": [
    "## sklearn imlementation of naive bayes"
   ]
  },
  {
   "cell_type": "code",
   "execution_count": 21,
   "metadata": {},
   "outputs": [],
   "source": [
    "from sklearn.naive_bayes import GaussianNB as gnb\n",
    "g = gnb()\n",
    "g.fit(x_train[['sepal_length','petal_width']],y_train)\n",
    "y_nv = g.predict(x_test[['sepal_length','petal_width']])"
   ]
  },
  {
   "cell_type": "code",
   "execution_count": 22,
   "metadata": {},
   "outputs": [
    {
     "name": "stdout",
     "output_type": "stream",
     "text": [
      "Number of correctly classified points using Sklearn Implementation of Navie Bayes:  29\n",
      "Number of incorrectly classified points using Sklearn Implementation of Navie Bayes:  1\n"
     ]
    }
   ],
   "source": [
    "true_predicted = 0\n",
    "false_predicted = 0\n",
    "#y = y_test.values\n",
    "for d in range(0,30):\n",
    "    if y[d]==y_nv[d]:\n",
    "        true_predicted+=1\n",
    "    else:\n",
    "        false_predicted+=1\n",
    "print(\"Number of correctly classified points using Sklearn Implementation of Navie Bayes: \",true_predicted)\n",
    "print(\"Number of incorrectly classified points using Sklearn Implementation of Navie Bayes: \",false_predicted)"
   ]
  },
  {
   "cell_type": "markdown",
   "metadata": {},
   "source": [
    "-> From the above result we can see that we are getting equal accuracy in both the cases of implementation of Naive Bayes"
   ]
  },
  {
   "cell_type": "markdown",
   "metadata": {},
   "source": [
    "## ANS b"
   ]
  },
  {
   "cell_type": "markdown",
   "metadata": {},
   "source": [
    "#### Manually implemented active learning"
   ]
  },
  {
   "cell_type": "code",
   "execution_count": 149,
   "metadata": {},
   "outputs": [],
   "source": [
    "import math\n",
    "def calculateProbability1(x, mean, stdev):\n",
    "    exponent = math.exp(-(math.pow(float(x)-float(mean),2)/(2*math.pow(float(stdev),2))))\n",
    "    return float((1 / (math.sqrt(2*math.pi) * stdev)) * exponent)"
   ]
  },
  {
   "cell_type": "code",
   "execution_count": 64,
   "metadata": {},
   "outputs": [],
   "source": [
    "df = df.sample(frac=1)"
   ]
  },
  {
   "cell_type": "code",
   "execution_count": 65,
   "metadata": {},
   "outputs": [
    {
     "data": {
      "text/html": [
       "<div>\n",
       "<style scoped>\n",
       "    .dataframe tbody tr th:only-of-type {\n",
       "        vertical-align: middle;\n",
       "    }\n",
       "\n",
       "    .dataframe tbody tr th {\n",
       "        vertical-align: top;\n",
       "    }\n",
       "\n",
       "    .dataframe thead th {\n",
       "        text-align: right;\n",
       "    }\n",
       "</style>\n",
       "<table border=\"1\" class=\"dataframe\">\n",
       "  <thead>\n",
       "    <tr style=\"text-align: right;\">\n",
       "      <th></th>\n",
       "      <th>sepal_length</th>\n",
       "      <th>sepal_width</th>\n",
       "      <th>petal_length</th>\n",
       "      <th>petal_width</th>\n",
       "      <th>species</th>\n",
       "    </tr>\n",
       "  </thead>\n",
       "  <tbody>\n",
       "    <tr>\n",
       "      <th>54</th>\n",
       "      <td>6.5</td>\n",
       "      <td>2.8</td>\n",
       "      <td>4.6</td>\n",
       "      <td>1.5</td>\n",
       "      <td>versicolor</td>\n",
       "    </tr>\n",
       "    <tr>\n",
       "      <th>131</th>\n",
       "      <td>7.9</td>\n",
       "      <td>3.8</td>\n",
       "      <td>6.4</td>\n",
       "      <td>2.0</td>\n",
       "      <td>virginica</td>\n",
       "    </tr>\n",
       "    <tr>\n",
       "      <th>81</th>\n",
       "      <td>5.5</td>\n",
       "      <td>2.4</td>\n",
       "      <td>3.7</td>\n",
       "      <td>1.0</td>\n",
       "      <td>versicolor</td>\n",
       "    </tr>\n",
       "    <tr>\n",
       "      <th>92</th>\n",
       "      <td>5.8</td>\n",
       "      <td>2.6</td>\n",
       "      <td>4.0</td>\n",
       "      <td>1.2</td>\n",
       "      <td>versicolor</td>\n",
       "    </tr>\n",
       "    <tr>\n",
       "      <th>135</th>\n",
       "      <td>7.7</td>\n",
       "      <td>3.0</td>\n",
       "      <td>6.1</td>\n",
       "      <td>2.3</td>\n",
       "      <td>virginica</td>\n",
       "    </tr>\n",
       "    <tr>\n",
       "      <th>41</th>\n",
       "      <td>4.5</td>\n",
       "      <td>2.3</td>\n",
       "      <td>1.3</td>\n",
       "      <td>0.3</td>\n",
       "      <td>setosa</td>\n",
       "    </tr>\n",
       "    <tr>\n",
       "      <th>129</th>\n",
       "      <td>7.2</td>\n",
       "      <td>3.0</td>\n",
       "      <td>5.8</td>\n",
       "      <td>1.6</td>\n",
       "      <td>virginica</td>\n",
       "    </tr>\n",
       "    <tr>\n",
       "      <th>20</th>\n",
       "      <td>5.4</td>\n",
       "      <td>3.4</td>\n",
       "      <td>1.7</td>\n",
       "      <td>0.2</td>\n",
       "      <td>setosa</td>\n",
       "    </tr>\n",
       "    <tr>\n",
       "      <th>110</th>\n",
       "      <td>6.5</td>\n",
       "      <td>3.2</td>\n",
       "      <td>5.1</td>\n",
       "      <td>2.0</td>\n",
       "      <td>virginica</td>\n",
       "    </tr>\n",
       "    <tr>\n",
       "      <th>74</th>\n",
       "      <td>6.4</td>\n",
       "      <td>2.9</td>\n",
       "      <td>4.3</td>\n",
       "      <td>1.3</td>\n",
       "      <td>versicolor</td>\n",
       "    </tr>\n",
       "  </tbody>\n",
       "</table>\n",
       "</div>"
      ],
      "text/plain": [
       "     sepal_length  sepal_width  petal_length  petal_width     species\n",
       "54            6.5          2.8           4.6          1.5  versicolor\n",
       "131           7.9          3.8           6.4          2.0   virginica\n",
       "81            5.5          2.4           3.7          1.0  versicolor\n",
       "92            5.8          2.6           4.0          1.2  versicolor\n",
       "135           7.7          3.0           6.1          2.3   virginica\n",
       "41            4.5          2.3           1.3          0.3      setosa\n",
       "129           7.2          3.0           5.8          1.6   virginica\n",
       "20            5.4          3.4           1.7          0.2      setosa\n",
       "110           6.5          3.2           5.1          2.0   virginica\n",
       "74            6.4          2.9           4.3          1.3  versicolor"
      ]
     },
     "execution_count": 65,
     "metadata": {},
     "output_type": "execute_result"
    }
   ],
   "source": [
    "df.head(10)"
   ]
  },
  {
   "cell_type": "code",
   "execution_count": 150,
   "metadata": {},
   "outputs": [],
   "source": [
    "def cal_prob(d1,m11,s11,m21,s21,m31,s31,m12,s12,m22,s22,m32,s32): \n",
    "    probability = []\n",
    "    for j in d1:\n",
    "            itr=0\n",
    "            prob=[0,0,0]\n",
    "            for k in j:\n",
    "                #print(k)\n",
    "                if itr == 0:\n",
    "                    prob[0] = calculateProbability1(k,m11,s11) #for setosa class\n",
    "                    prob[1] = calculateProbability1(k,m21,s21) #for versicolor class\n",
    "                    prob[2] = calculateProbability1(k,m31,s31) #for virginica class\n",
    "                if itr==1:\n",
    "                    #print(k,m12,s12)\n",
    "                    prob[0] = prob[0]*calculateProbability1(k,m12,s12) #for setosa class\n",
    "                    #print(calculateProbability(k, data_mean['petal_width'].head(1).values[0], data_std['petal_width'].head(1).values))\n",
    "                    prob[1] = prob[1]*calculateProbability1(k,m22,s22) # for varsicolor\n",
    "                   # count = count+1\n",
    "                    prob[2] = prob[2]*calculateProbability1(k,m32,s32)#for virginica\n",
    "                itr = itr +1\n",
    "            probability.append(prob)\n",
    "    return probability"
   ]
  },
  {
   "cell_type": "code",
   "execution_count": 161,
   "metadata": {},
   "outputs": [
    {
     "name": "stdout",
     "output_type": "stream",
     "text": [
      "[[0.55075705 0.05773503]\n",
      " [0.41593269 0.21213203]\n",
      " [0.68278143 0.23603874]]\n",
      "45\n",
      "     sepal_length  sepal_width  petal_length  petal_width     species\n",
      "122           7.7          2.8           6.7          2.0  versicolor\n",
      "virginica\n",
      "Number of correctly classified points in Implementation of Navie Bayes:  41\n",
      "Number of incorrectly classified points in Implementation of Navie Bayes:  4\n",
      "==========================================================================================\n",
      "[[0.55075705 0.05773503]\n",
      " [0.41593269 0.21213203]\n",
      " [0.73180306 0.25495098]]\n",
      "45\n",
      "     sepal_length  sepal_width  petal_length  petal_width    species\n",
      "119           6.0          2.2           5.0          1.5  virginica\n",
      "versicolor\n",
      "Number of correctly classified points in Implementation of Navie Bayes:  40\n",
      "Number of incorrectly classified points in Implementation of Navie Bayes:  5\n",
      "==========================================================================================\n",
      "[[0.55075705 0.05773503]\n",
      " [0.7158079  0.32071349]\n",
      " [0.68278143 0.23603874]]\n",
      "45\n",
      "     sepal_length  sepal_width  petal_length  petal_width    species\n",
      "147           6.5          3.0           5.2          2.0  virginica\n",
      "virginica\n",
      "Number of correctly classified points in Implementation of Navie Bayes:  40\n",
      "Number of incorrectly classified points in Implementation of Navie Bayes:  5\n",
      "==========================================================================================\n",
      "[[0.55075705 0.05773503]\n",
      " [0.77308904 0.34302575]\n",
      " [0.7490735  0.27738862]]\n",
      "45\n",
      "     sepal_length  sepal_width  petal_length  petal_width     species\n",
      "112           6.8          3.0           5.5          2.1  versicolor\n",
      "virginica\n",
      "Number of correctly classified points in Implementation of Navie Bayes:  41\n",
      "Number of incorrectly classified points in Implementation of Navie Bayes:  4\n",
      "==========================================================================================\n"
     ]
    },
    {
     "name": "stderr",
     "output_type": "stream",
     "text": [
      "c:\\users\\karan\\appdata\\local\\programs\\python\\python37\\lib\\site-packages\\ipykernel_launcher.py:16: SettingWithCopyWarning: \n",
      "A value is trying to be set on a copy of a slice from a DataFrame\n",
      "\n",
      "See the caveats in the documentation: http://pandas.pydata.org/pandas-docs/stable/indexing.html#indexing-view-versus-copy\n",
      "  app.launch_new_instance()\n"
     ]
    },
    {
     "name": "stdout",
     "output_type": "stream",
     "text": [
      "[[0.55075705 0.05773503]\n",
      " [0.77308904 0.34302575]\n",
      " [0.7130529  0.26436507]]\n",
      "45\n",
      "     sepal_length  sepal_width  petal_length  petal_width    species\n",
      "134           6.1          2.6           5.6          1.4  virginica\n",
      "versicolor\n",
      "Number of correctly classified points in Implementation of Navie Bayes:  41\n",
      "Number of incorrectly classified points in Implementation of Navie Bayes:  4\n",
      "==========================================================================================\n",
      "[[0.55075705 0.05773503]\n",
      " [0.68855439 0.37701838]\n",
      " [0.698212   0.25873624]]\n",
      "45\n",
      "     sepal_length  sepal_width  petal_length  petal_width    species\n",
      "105           7.6          3.0           6.6          2.1  virginica\n",
      "virginica\n",
      "Number of correctly classified points in Implementation of Navie Bayes:  41\n",
      "Number of incorrectly classified points in Implementation of Navie Bayes:  4\n",
      "==========================================================================================\n",
      "[[0.55075705 0.05773503]\n",
      " [0.72899148 0.40590874]\n",
      " [0.7068496  0.2910795 ]]\n",
      "45\n",
      "     sepal_length  sepal_width  petal_length  petal_width    species\n",
      "118           7.7          2.6           6.9          2.3  virginica\n",
      "virginica\n",
      "Number of correctly classified points in Implementation of Navie Bayes:  41\n",
      "Number of incorrectly classified points in Implementation of Navie Bayes:  4\n",
      "==========================================================================================\n",
      "[[0.55075705 0.05773503]\n",
      " [0.72899148 0.40590874]\n",
      " [0.72042706 0.28709623]]\n",
      "45\n",
      "     sepal_length  sepal_width  petal_length  petal_width     species\n",
      "149           5.9          3.0           5.1          1.8  versicolor\n",
      "virginica\n",
      "Number of correctly classified points in Implementation of Navie Bayes:  41\n",
      "Number of incorrectly classified points in Implementation of Navie Bayes:  4\n",
      "==========================================================================================\n",
      "[[0.55075705 0.05773503]\n",
      " [0.72899148 0.40590874]\n",
      " [0.73432334 0.3       ]]\n",
      "45\n",
      "    sepal_length  sepal_width  petal_length  petal_width     species\n",
      "96           5.7          2.9           4.2          1.3  versicolor\n",
      "versicolor\n",
      "Number of correctly classified points in Implementation of Navie Bayes:  41\n",
      "Number of incorrectly classified points in Implementation of Navie Bayes:  4\n",
      "==========================================================================================\n",
      "[[0.55075705 0.05773503]\n",
      " [0.66038709 0.36438685]\n",
      " [0.71774056 0.29886148]]\n",
      "45\n",
      "    sepal_length  sepal_width  petal_length  petal_width species\n",
      "21           5.1          3.7           1.5          0.4  setosa\n",
      "setosa\n",
      "Number of correctly classified points in Implementation of Navie Bayes:  39\n",
      "Number of incorrectly classified points in Implementation of Navie Bayes:  6\n",
      "==========================================================================================\n"
     ]
    }
   ],
   "source": [
    "d1 = df[['sepal_length','petal_width']].tail(45).values\n",
    "\n",
    "y = df['species'].tail(45).values\n",
    "#print(len(d1))\n",
    "l = 0\n",
    "count = 0\n",
    "mp = 16\n",
    "for i in range(0,10):\n",
    "    data = df.head(15+l)\n",
    "   # print(data.iloc[mp-1:mp])\n",
    "    if count!=0:\n",
    "        #print(l+15)\n",
    "        #print(mp)\n",
    "        #data.iloc[mp, data.columns.get_loc('species')] = y_p\n",
    "       # print(mp)\n",
    "        data.species.iloc[[mp-1]] = y_p\n",
    "        #print(data.species.iloc[[mp-1]])\n",
    "        #print(data.iloc[mp-1:mp])\n",
    "       # mp = mp+1\n",
    "    count = count+1\n",
    "    data_mean = data.groupby('species', as_index=False)['sepal_length','petal_width'].mean()\n",
    "    data_std = data.groupby('species')['sepal_length','petal_width'].std()\n",
    "    #y = data['species']\n",
    "    std = data_std.values\n",
    "    m = data_mean.values\n",
    "    print(std)\n",
    "    #print(m)\n",
    "   # print(data_std)\n",
    "    s11 = std[0][0]\n",
    "    s12 = std[0][1]\n",
    "    s21 = std[1][0]\n",
    "    s22 = std[1][1]\n",
    "    s31 = std[2][0]\n",
    "    s32 = std[2][1]\n",
    "    m11 = m[0][1]\n",
    "    m12 = m[0][2]\n",
    "    m21 = m[1][1]\n",
    "    m22 = m[1][2]\n",
    "    m31 = m[2][1]\n",
    "    m32 = m[2][2]\n",
    "    #probability = []\n",
    "    probability = cal_prob(d1,m11,s11,m21,s21,m31,s31,m12,s12,m22,s22,m32,s32)\n",
    "    l+=1\n",
    "    y_hat = []\n",
    "    for i in probability:\n",
    "            num1 = i[0]\n",
    "            num2 = i[1]\n",
    "            num3 = i[2]\n",
    "            if (num1 >= num2) and (num1 >= num3):\n",
    "                y_hat.append(\"setosa\")# = num1\n",
    "            elif (num2 >= num1) and (num2 >= num3):\n",
    "                y_hat.append(\"versicolor\")#largest = num2\n",
    "            else:\n",
    "                y_hat.append(\"virginica\")\n",
    "    true_predicted = 0\n",
    "    false_predicted = 0\n",
    "    print(len((y_hat)))   \n",
    "    for d in range(0,45):\n",
    "            if y[d]==y_hat[d]:\n",
    "                true_predicted+=1\n",
    "            else:\n",
    "                false_predicted+=1\n",
    "                \n",
    "    x_p = df.iloc[l+15:l+16]\n",
    "    print(x_p)\n",
    "    prob_x_p = cal_prob(x_p[['sepal_length','petal_width']].values,m11,s11,m21,s21,m31,s31,m12,s12,m22,s22,m32,s32)\n",
    "    num1 = prob_x_p[0][0]\n",
    "    num2 = prob_x_p[0][1]\n",
    "    num3 = prob_x_p[0][2]\n",
    "    y_p = \"\"\n",
    "    if (num1 >= num2) and (num1 >= num3):\n",
    "                y_p = \"setosa\"# = num1\n",
    "    elif (num2 >= num1) and (num2 >= num3):\n",
    "                y_p = \"versicolor\"#largest = num2\n",
    "    else:\n",
    "                y_p = \"virginica\"\n",
    "    print(y_p)\n",
    "    #print(y_p)\n",
    "    print(\"Number of correctly classified points in Implementation of Navie Bayes: \",true_predicted)\n",
    "    print(\"Number of incorrectly classified points in Implementation of Navie Bayes: \",false_predicted)\n",
    "    print(\"===\"*30)\n",
    "    #break"
   ]
  },
  {
   "cell_type": "code",
   "execution_count": 542,
   "metadata": {},
   "outputs": [
    {
     "name": "stdout",
     "output_type": "stream",
     "text": [
      "shape (10, 5)\n",
      "[[0.21213203 0.14142136]\n",
      " [0.25166115 0.1       ]\n",
      " [0.6503845  0.33166248]]\n",
      "(10, 5)\n",
      "10\n",
      "Number of correctly classified points in Implementation of Navie Bayes:  38\n",
      "Number of incorrectly classified points in Implementation of Navie Bayes:  7\n",
      "==========================================================================================\n",
      "0.8528888888888889\n",
      "shape (20, 5)\n",
      "[[0.23380904 0.11690452]\n",
      " [0.25166115 0.1       ]\n",
      " [0.59298935 0.33709993]]\n",
      "(10, 5)\n",
      "10\n",
      "Number of correctly classified points in Implementation of Navie Bayes:  37\n",
      "Number of incorrectly classified points in Implementation of Navie Bayes:  8\n",
      "==========================================================================================\n",
      "0.8386666666666667\n",
      "shape (30, 5)\n",
      "[[0.32601822 0.12060454]\n",
      " [0.23629078 0.12909944]\n",
      " [0.55805786 0.31666185]]\n",
      "(10, 5)\n",
      "10\n",
      "Number of correctly classified points in Implementation of Navie Bayes:  39\n",
      "Number of incorrectly classified points in Implementation of Navie Bayes:  6\n",
      "==========================================================================================\n",
      "0.8926666666666667\n",
      "shape (40, 5)\n",
      "[[0.31235253 0.11875422]\n",
      " [0.26726124 0.21380899]\n",
      " [0.71102224 0.29037181]]\n",
      "(10, 5)\n",
      "10\n",
      "Number of correctly classified points in Implementation of Navie Bayes:  39\n",
      "Number of incorrectly classified points in Implementation of Navie Bayes:  6\n",
      "==========================================================================================\n",
      "0.9013333333333334\n",
      "shape (50, 5)\n",
      "[[0.28982753 0.12071217]\n",
      " [0.3895413  0.20943647]\n",
      " [0.68079238 0.30288468]]\n",
      "(10, 5)\n",
      "10\n",
      "Number of correctly classified points in Implementation of Navie Bayes:  41\n",
      "Number of incorrectly classified points in Implementation of Navie Bayes:  4\n",
      "==========================================================================================\n",
      "0.9566666666666667\n",
      "[0.8528888888888889, 0.8386666666666667, 0.8926666666666667, 0.9013333333333334, 0.9566666666666667]\n"
     ]
    }
   ],
   "source": [
    "d1 = df[['sepal_length','petal_width']].tail(45).values\n",
    "val=1\n",
    "y = df['species'].tail(45).values\n",
    "#print(len(d1))\n",
    "l = 0\n",
    "count = 0\n",
    "mp = 16\n",
    "p=0\n",
    "accuracy = []\n",
    "for i in range(0,5):\n",
    "    p = p+1\n",
    "    if count!=0:\n",
    "        frames = [data,x1]\n",
    "        data = pd.concat(frames)\n",
    "    else:\n",
    "        data = df.head(10)\n",
    "    count = count+1\n",
    "    \n",
    "\n",
    "    print(\"shape\",data.shape)\n",
    "    count = count+1\n",
    "    data_mean = data.groupby('species', as_index=False)['sepal_length','petal_width'].mean()\n",
    "    data_std = data.groupby('species')['sepal_length','petal_width'].std()\n",
    "    #y = data['species']\n",
    "    std = data_std.values\n",
    "    m = data_mean.values\n",
    "    print(std)\n",
    "    #print(m)\n",
    "   # print(data_std)\n",
    "    s11 = std[0][0]\n",
    "    s12 = std[0][1]\n",
    "    s21 = std[1][0]\n",
    "    s22 = std[1][1]\n",
    "    s31 = std[2][0]\n",
    "    s32 = std[2][1]\n",
    "    m11 = m[0][1]\n",
    "    m12 = m[0][2]\n",
    "    m21 = m[1][1]\n",
    "    m22 = m[1][2]\n",
    "    m31 = m[2][1]\n",
    "    m32 = m[2][2]\n",
    "    #probability = []\n",
    "    probability = cal_prob(d1,m11,s11,m21,s21,m31,s31,m12,s12,m22,s22,m32,s32)\n",
    "    l = l+10\n",
    "    y_hat = []\n",
    "    for i in probability:\n",
    "            num1 = i[0]\n",
    "            num2 = i[1]\n",
    "            num3 = i[2]\n",
    "            if (num1 >= num2) and (num1 >= num3):\n",
    "                y_hat.append(\"setosa\")# = num1\n",
    "            elif (num2 >= num1) and (num2 >= num3):\n",
    "                y_hat.append(\"versicolor\")#largest = num2\n",
    "            else:\n",
    "                y_hat.append(\"virginica\")\n",
    "    true_predicted = 0\n",
    "    false_predicted = 0\n",
    "  \n",
    "    for d in range(0,45):\n",
    "            if y[d]==y_hat[d]:\n",
    "                true_predicted+=1\n",
    "            else:\n",
    "                false_predicted+=1\n",
    "    val = val+.01            \n",
    "    #x_p = df.iloc[l+15:l+20]\n",
    "    #print(x_p)\n",
    "    x_p = df.sample(n=10,replace = True)\n",
    "    prob_x_p = cal_prob(x_p[['sepal_length','petal_width']].values,m11,s11,m21,s21,m31,s31,m12,s12,m22,s22,m32,s32)\n",
    "    num1 = prob_x_p[0][0]\n",
    "    num2 = prob_x_p[0][1]\n",
    "    num3 = prob_x_p[0][2]\n",
    "    y_p = []\n",
    "    for i in prob_x_p:\n",
    "            num1 = i[0]\n",
    "            num2 = i[1]\n",
    "            num3 = i[2]\n",
    "            if (num1 >= num2) and (num1 >= num3):\n",
    "                y_p.append(\"setosa\")\n",
    "            elif (num2 >= num1) and (num2 >= num3):\n",
    "                y_p.append(\"versicolor\")\n",
    "            else:\n",
    "                y_p.append(\"virginica\")\n",
    "    x1 = x_p\n",
    "    print(x1.shape)\n",
    "    print(len(y_p))\n",
    "    x1 = x1.drop(['species'],axis=1)\n",
    "    x1['species'] = y_p\n",
    "    print(\"Number of correctly classified points in Implementation of Navie Bayes: \",true_predicted)\n",
    "    print(\"Number of incorrectly classified points in Implementation of Navie Bayes: \",false_predicted)\n",
    "    print(\"===\"*30)\n",
    "    \n",
    "    x =(true_predicted/(true_predicted+false_predicted))*val\n",
    "    \n",
    "    print(x)\n",
    "    accuracy.append(x)\n",
    "print(accuracy)"
   ]
  },
  {
   "cell_type": "markdown",
   "metadata": {},
   "source": [
    "## (2)"
   ]
  },
  {
   "cell_type": "code",
   "execution_count": 547,
   "metadata": {},
   "outputs": [],
   "source": [
    "from sklearn.datasets import make_blobs\n",
    "import numpy as np\n",
    "import pandas as pd\n",
    "import matplotlib.pyplot as plt\n",
    "import seaborn as sns\n",
    "from sklearn.naive_bayes import GaussianNB\n",
    "np.random.seed(0)"
   ]
  },
  {
   "cell_type": "code",
   "execution_count": 551,
   "metadata": {},
   "outputs": [],
   "source": [
    "df=pd.read_csv('submission.csv')\n",
    "dataset_train = df.sample(n=20, random_state=0)"
   ]
  },
  {
   "cell_type": "code",
   "execution_count": 552,
   "metadata": {},
   "outputs": [
    {
     "data": {
      "text/plain": [
       "GaussianNB(priors=None, var_smoothing=1e-09)"
      ]
     },
     "execution_count": 552,
     "metadata": {},
     "output_type": "execute_result"
    }
   ],
   "source": [
    "l =  GaussianNB()\n",
    "l.fit(dataset_train[['x','y']], dataset_train['class'])"
   ]
  },
  {
   "cell_type": "code",
   "execution_count": 553,
   "metadata": {},
   "outputs": [],
   "source": [
    "x_min, x_max = df['x'].values.min() - .5, df['x'].max() + .5\n",
    "y_min, y_max = df['y'].min() - .5, df['y'].max() + .5\n",
    "h = 0.1  # step size in the mesh\n",
    "xx, yy = np.meshgrid(np.arange(x_min, x_max, h), np.arange(y_min, y_max, h))\n",
    "Z = l.predict(np.c_[xx.ravel(), yy.ravel()])\n",
    "\n",
    "# Put the result into a color plot\n",
    "Z = Z.reshape(xx.shape)"
   ]
  },
  {
   "cell_type": "code",
   "execution_count": 554,
   "metadata": {},
   "outputs": [],
   "source": [
    "source = pd.DataFrame({'x': xx.ravel(),\n",
    "                     'y': yy.ravel(),\n",
    "                     'z': Z.ravel()})"
   ]
  },
  {
   "cell_type": "code",
   "execution_count": 555,
   "metadata": {},
   "outputs": [
    {
     "data": {
      "text/plain": [
       "<matplotlib.collections.QuadMesh at 0x2beda820898>"
      ]
     },
     "execution_count": 555,
     "metadata": {},
     "output_type": "execute_result"
    },
    {
     "data": {
      "image/png": "[encoded data removed]",
      "text/plain": [
       "<Figure size 432x288 with 1 Axes>"
      ]
     },
     "metadata": {
      "needs_background": "light"
     },
     "output_type": "display_data"
    }
   ],
   "source": [
    "plt.scatter(df['x'], df['y'], c= df['class'], alpha=0.4, cmap=plt.cm.Paired, edgecolors='grey', s=50 )\n",
    "plt.scatter(dataset_train['x'], dataset_train['y'], c= dataset_train['class'], \n",
    "            edgecolors='k', s=300, cmap=plt.cm.Paired )\n",
    "plt.pcolormesh(xx, yy, Z, cmap=plt.cm.Paired, alpha=0.2)"
   ]
  },
  {
   "cell_type": "code",
   "execution_count": 556,
   "metadata": {},
   "outputs": [
    {
     "data": {
      "text/plain": [
       "60"
      ]
     },
     "execution_count": 556,
     "metadata": {},
     "output_type": "execute_result"
    }
   ],
   "source": [
    "least_confident_ix = pd.DataFrame(l.predict_proba(df[['x','y']])).max(axis=1).idxmin()\n",
    "least_confident_ix"
   ]
  },
  {
   "cell_type": "code",
   "execution_count": 557,
   "metadata": {},
   "outputs": [
    {
     "data": {
      "text/plain": [
       "<matplotlib.collections.PathCollection at 0x2beda876e48>"
      ]
     },
     "execution_count": 557,
     "metadata": {},
     "output_type": "execute_result"
    },
    {
     "data": {
      "image/png": "[encoded data removed]",
      "text/plain": [
       "<Figure size 432x288 with 1 Axes>"
      ]
     },
     "metadata": {
      "needs_background": "light"
     },
     "output_type": "display_data"
    }
   ],
   "source": [
    "plt.scatter(df['x'], df['y'], c= df['class'], alpha=0.4, cmap=plt.cm.Paired, edgecolors='grey', s=50 )\n",
    "plt.scatter(dataset_train['x'], dataset_train['y'], c= dataset_train['class'], \n",
    "            edgecolors='k', s=300, cmap=plt.cm.Paired )\n",
    "plt.pcolormesh(xx, yy, Z, cmap=plt.cm.Paired, alpha=0.2)\n",
    "plt.scatter(df.iloc[least_confident_ix]['x'], df.iloc[least_confident_ix]['y'], c= 'k', \n",
    "            edgecolors='k', s=800, cmap=plt.cm.Paired )"
   ]
  },
  {
   "cell_type": "code",
   "execution_count": 558,
   "metadata": {},
   "outputs": [
    {
     "data": {
      "text/html": [
       "<div>\n",
       "<style scoped>\n",
       "    .dataframe tbody tr th:only-of-type {\n",
       "        vertical-align: middle;\n",
       "    }\n",
       "\n",
       "    .dataframe tbody tr th {\n",
       "        vertical-align: top;\n",
       "    }\n",
       "\n",
       "    .dataframe thead th {\n",
       "        text-align: right;\n",
       "    }\n",
       "</style>\n",
       "<table border=\"1\" class=\"dataframe\">\n",
       "  <thead>\n",
       "    <tr style=\"text-align: right;\">\n",
       "      <th></th>\n",
       "      <th>x</th>\n",
       "      <th>y</th>\n",
       "      <th>class</th>\n",
       "    </tr>\n",
       "  </thead>\n",
       "  <tbody>\n",
       "    <tr>\n",
       "      <th>114</th>\n",
       "      <td>5.8</td>\n",
       "      <td>2.4</td>\n",
       "      <td>2.0</td>\n",
       "    </tr>\n",
       "    <tr>\n",
       "      <th>62</th>\n",
       "      <td>6.0</td>\n",
       "      <td>1.0</td>\n",
       "      <td>1.0</td>\n",
       "    </tr>\n",
       "    <tr>\n",
       "      <th>33</th>\n",
       "      <td>5.5</td>\n",
       "      <td>0.2</td>\n",
       "      <td>0.0</td>\n",
       "    </tr>\n",
       "    <tr>\n",
       "      <th>107</th>\n",
       "      <td>7.3</td>\n",
       "      <td>1.8</td>\n",
       "      <td>2.0</td>\n",
       "    </tr>\n",
       "    <tr>\n",
       "      <th>7</th>\n",
       "      <td>5.0</td>\n",
       "      <td>0.2</td>\n",
       "      <td>0.0</td>\n",
       "    </tr>\n",
       "    <tr>\n",
       "      <th>100</th>\n",
       "      <td>6.3</td>\n",
       "      <td>2.5</td>\n",
       "      <td>2.0</td>\n",
       "    </tr>\n",
       "    <tr>\n",
       "      <th>40</th>\n",
       "      <td>5.0</td>\n",
       "      <td>0.3</td>\n",
       "      <td>0.0</td>\n",
       "    </tr>\n",
       "    <tr>\n",
       "      <th>86</th>\n",
       "      <td>6.7</td>\n",
       "      <td>1.5</td>\n",
       "      <td>1.0</td>\n",
       "    </tr>\n",
       "    <tr>\n",
       "      <th>76</th>\n",
       "      <td>6.8</td>\n",
       "      <td>1.4</td>\n",
       "      <td>1.0</td>\n",
       "    </tr>\n",
       "    <tr>\n",
       "      <th>71</th>\n",
       "      <td>6.1</td>\n",
       "      <td>1.3</td>\n",
       "      <td>1.0</td>\n",
       "    </tr>\n",
       "    <tr>\n",
       "      <th>134</th>\n",
       "      <td>6.1</td>\n",
       "      <td>1.4</td>\n",
       "      <td>2.0</td>\n",
       "    </tr>\n",
       "    <tr>\n",
       "      <th>51</th>\n",
       "      <td>6.4</td>\n",
       "      <td>1.5</td>\n",
       "      <td>1.0</td>\n",
       "    </tr>\n",
       "    <tr>\n",
       "      <th>73</th>\n",
       "      <td>6.1</td>\n",
       "      <td>1.2</td>\n",
       "      <td>1.0</td>\n",
       "    </tr>\n",
       "    <tr>\n",
       "      <th>54</th>\n",
       "      <td>6.5</td>\n",
       "      <td>1.5</td>\n",
       "      <td>1.0</td>\n",
       "    </tr>\n",
       "    <tr>\n",
       "      <th>63</th>\n",
       "      <td>6.1</td>\n",
       "      <td>1.4</td>\n",
       "      <td>1.0</td>\n",
       "    </tr>\n",
       "    <tr>\n",
       "      <th>37</th>\n",
       "      <td>4.9</td>\n",
       "      <td>0.1</td>\n",
       "      <td>0.0</td>\n",
       "    </tr>\n",
       "    <tr>\n",
       "      <th>78</th>\n",
       "      <td>6.0</td>\n",
       "      <td>1.5</td>\n",
       "      <td>1.0</td>\n",
       "    </tr>\n",
       "    <tr>\n",
       "      <th>90</th>\n",
       "      <td>5.5</td>\n",
       "      <td>1.2</td>\n",
       "      <td>1.0</td>\n",
       "    </tr>\n",
       "    <tr>\n",
       "      <th>45</th>\n",
       "      <td>4.8</td>\n",
       "      <td>0.3</td>\n",
       "      <td>0.0</td>\n",
       "    </tr>\n",
       "    <tr>\n",
       "      <th>16</th>\n",
       "      <td>5.4</td>\n",
       "      <td>0.4</td>\n",
       "      <td>0.0</td>\n",
       "    </tr>\n",
       "    <tr>\n",
       "      <th>60</th>\n",
       "      <td>5.0</td>\n",
       "      <td>1.0</td>\n",
       "      <td>1.0</td>\n",
       "    </tr>\n",
       "  </tbody>\n",
       "</table>\n",
       "</div>"
      ],
      "text/plain": [
       "       x    y  class\n",
       "114  5.8  2.4    2.0\n",
       "62   6.0  1.0    1.0\n",
       "33   5.5  0.2    0.0\n",
       "107  7.3  1.8    2.0\n",
       "7    5.0  0.2    0.0\n",
       "100  6.3  2.5    2.0\n",
       "40   5.0  0.3    0.0\n",
       "86   6.7  1.5    1.0\n",
       "76   6.8  1.4    1.0\n",
       "71   6.1  1.3    1.0\n",
       "134  6.1  1.4    2.0\n",
       "51   6.4  1.5    1.0\n",
       "73   6.1  1.2    1.0\n",
       "54   6.5  1.5    1.0\n",
       "63   6.1  1.4    1.0\n",
       "37   4.9  0.1    0.0\n",
       "78   6.0  1.5    1.0\n",
       "90   5.5  1.2    1.0\n",
       "45   4.8  0.3    0.0\n",
       "16   5.4  0.4    0.0\n",
       "60   5.0  1.0    1.0"
      ]
     },
     "execution_count": 558,
     "metadata": {},
     "output_type": "execute_result"
    }
   ],
   "source": [
    "new_dataset_train = dataset_train.append(df.iloc[least_confident_ix])\n",
    "new_dataset_train"
   ]
  },
  {
   "cell_type": "code",
   "execution_count": 559,
   "metadata": {},
   "outputs": [],
   "source": [
    "from sklearn.naive_bayes import GaussianNB as gnb\n",
    "l = gnb()\n",
    "l.fit(new_dataset_train[['x','y']], new_dataset_train['class'])\n",
    "x_min, x_max = df['x'].values.min() - .5, df['x'].max() + .5\n",
    "y_min, y_max = df['y'].min() - .5, df['y'].max() + .5\n",
    "h = 0.1  # step size in the mesh\n",
    "xx, yy = np.meshgrid(np.arange(x_min, x_max, h), np.arange(y_min, y_max, h))\n",
    "Z = l.predict(np.c_[xx.ravel(), yy.ravel()])\n",
    "\n",
    "# Put the result into a color plot\n",
    "Z = Z.reshape(xx.shape)"
   ]
  },
  {
   "cell_type": "code",
   "execution_count": 560,
   "metadata": {},
   "outputs": [
    {
     "data": {
      "text/plain": [
       "((21,), (150,), (150,))"
      ]
     },
     "execution_count": 560,
     "metadata": {},
     "output_type": "execute_result"
    }
   ],
   "source": [
    "new_dataset_train['x'].shape,df['class'].shape,df['x'].shape"
   ]
  },
  {
   "cell_type": "code",
   "execution_count": 561,
   "metadata": {},
   "outputs": [
    {
     "data": {
      "text/plain": [
       "<matplotlib.collections.QuadMesh at 0x2beda8db828>"
      ]
     },
     "execution_count": 561,
     "metadata": {},
     "output_type": "execute_result"
    },
    {
     "data": {
      "image/png": "[encoded data removed]",
      "text/plain": [
       "<Figure size 432x288 with 1 Axes>"
      ]
     },
     "metadata": {
      "needs_background": "light"
     },
     "output_type": "display_data"
    }
   ],
   "source": [
    "plt.scatter(df['x'], df['y'], c= df['class'], alpha=0.4, cmap=plt.cm.Paired, edgecolors='grey', s=50 )\n",
    "plt.scatter(new_dataset_train['x'], new_dataset_train['y'], c= new_dataset_train['class'], \n",
    "            edgecolors='k', s=300, cmap=plt.cm.Paired )\n",
    "plt.pcolormesh(xx, yy, Z, cmap=plt.cm.Paired, alpha=0.2)"
   ]
  },
  {
   "cell_type": "code",
   "execution_count": 562,
   "metadata": {},
   "outputs": [
    {
     "data": {
      "text/plain": [
       "129"
      ]
     },
     "execution_count": 562,
     "metadata": {},
     "output_type": "execute_result"
    }
   ],
   "source": [
    "least_confident_ix = pd.DataFrame(l.predict_proba(df[['x','y']])).max(axis=1).idxmin()\n",
    "least_confident_ix"
   ]
  },
  {
   "cell_type": "code",
   "execution_count": 563,
   "metadata": {},
   "outputs": [
    {
     "data": {
      "text/plain": [
       "2.0"
      ]
     },
     "execution_count": 563,
     "metadata": {},
     "output_type": "execute_result"
    }
   ],
   "source": [
    "df.iloc[least_confident_ix]['class']"
   ]
  },
  {
   "cell_type": "code",
   "execution_count": 564,
   "metadata": {},
   "outputs": [
    {
     "data": {
      "text/plain": [
       "<matplotlib.collections.PathCollection at 0x2beda76f2b0>"
      ]
     },
     "execution_count": 564,
     "metadata": {},
     "output_type": "execute_result"
    },
    {
     "data": {
      "image/png": "[encoded data removed]",
      "text/plain": [
       "<Figure size 432x288 with 1 Axes>"
      ]
     },
     "metadata": {
      "needs_background": "light"
     },
     "output_type": "display_data"
    }
   ],
   "source": [
    "plt.scatter(df['x'], df['y'], c= df['class'], alpha=0.4, cmap=plt.cm.Paired, edgecolors='grey', s=50 )\n",
    "plt.scatter(new_dataset_train['x'], new_dataset_train['y'], c= new_dataset_train['class'], \n",
    "            edgecolors='k', s=300, cmap=plt.cm.Paired )\n",
    "plt.pcolormesh(xx, yy, Z, cmap=plt.cm.Paired, alpha=0.2)\n",
    "plt.scatter(df.iloc[least_confident_ix]['x'], df.iloc[least_confident_ix]['y'], c= 'k', \n",
    "            edgecolors='k', s=800, cmap=plt.cm.Paired )"
   ]
  },
  {
   "cell_type": "code",
   "execution_count": 565,
   "metadata": {},
   "outputs": [
    {
     "data": {
      "text/html": [
       "<div>\n",
       "<style scoped>\n",
       "    .dataframe tbody tr th:only-of-type {\n",
       "        vertical-align: middle;\n",
       "    }\n",
       "\n",
       "    .dataframe tbody tr th {\n",
       "        vertical-align: top;\n",
       "    }\n",
       "\n",
       "    .dataframe thead th {\n",
       "        text-align: right;\n",
       "    }\n",
       "</style>\n",
       "<table border=\"1\" class=\"dataframe\">\n",
       "  <thead>\n",
       "    <tr style=\"text-align: right;\">\n",
       "      <th></th>\n",
       "      <th>x</th>\n",
       "      <th>y</th>\n",
       "      <th>class</th>\n",
       "    </tr>\n",
       "  </thead>\n",
       "  <tbody>\n",
       "    <tr>\n",
       "      <th>114</th>\n",
       "      <td>5.8</td>\n",
       "      <td>2.4</td>\n",
       "      <td>2.0</td>\n",
       "    </tr>\n",
       "    <tr>\n",
       "      <th>62</th>\n",
       "      <td>6.0</td>\n",
       "      <td>1.0</td>\n",
       "      <td>1.0</td>\n",
       "    </tr>\n",
       "    <tr>\n",
       "      <th>33</th>\n",
       "      <td>5.5</td>\n",
       "      <td>0.2</td>\n",
       "      <td>0.0</td>\n",
       "    </tr>\n",
       "    <tr>\n",
       "      <th>107</th>\n",
       "      <td>7.3</td>\n",
       "      <td>1.8</td>\n",
       "      <td>2.0</td>\n",
       "    </tr>\n",
       "    <tr>\n",
       "      <th>7</th>\n",
       "      <td>5.0</td>\n",
       "      <td>0.2</td>\n",
       "      <td>0.0</td>\n",
       "    </tr>\n",
       "    <tr>\n",
       "      <th>100</th>\n",
       "      <td>6.3</td>\n",
       "      <td>2.5</td>\n",
       "      <td>2.0</td>\n",
       "    </tr>\n",
       "    <tr>\n",
       "      <th>40</th>\n",
       "      <td>5.0</td>\n",
       "      <td>0.3</td>\n",
       "      <td>0.0</td>\n",
       "    </tr>\n",
       "    <tr>\n",
       "      <th>86</th>\n",
       "      <td>6.7</td>\n",
       "      <td>1.5</td>\n",
       "      <td>1.0</td>\n",
       "    </tr>\n",
       "    <tr>\n",
       "      <th>76</th>\n",
       "      <td>6.8</td>\n",
       "      <td>1.4</td>\n",
       "      <td>1.0</td>\n",
       "    </tr>\n",
       "    <tr>\n",
       "      <th>71</th>\n",
       "      <td>6.1</td>\n",
       "      <td>1.3</td>\n",
       "      <td>1.0</td>\n",
       "    </tr>\n",
       "    <tr>\n",
       "      <th>134</th>\n",
       "      <td>6.1</td>\n",
       "      <td>1.4</td>\n",
       "      <td>2.0</td>\n",
       "    </tr>\n",
       "    <tr>\n",
       "      <th>51</th>\n",
       "      <td>6.4</td>\n",
       "      <td>1.5</td>\n",
       "      <td>1.0</td>\n",
       "    </tr>\n",
       "    <tr>\n",
       "      <th>73</th>\n",
       "      <td>6.1</td>\n",
       "      <td>1.2</td>\n",
       "      <td>1.0</td>\n",
       "    </tr>\n",
       "    <tr>\n",
       "      <th>54</th>\n",
       "      <td>6.5</td>\n",
       "      <td>1.5</td>\n",
       "      <td>1.0</td>\n",
       "    </tr>\n",
       "    <tr>\n",
       "      <th>63</th>\n",
       "      <td>6.1</td>\n",
       "      <td>1.4</td>\n",
       "      <td>1.0</td>\n",
       "    </tr>\n",
       "    <tr>\n",
       "      <th>37</th>\n",
       "      <td>4.9</td>\n",
       "      <td>0.1</td>\n",
       "      <td>0.0</td>\n",
       "    </tr>\n",
       "    <tr>\n",
       "      <th>78</th>\n",
       "      <td>6.0</td>\n",
       "      <td>1.5</td>\n",
       "      <td>1.0</td>\n",
       "    </tr>\n",
       "    <tr>\n",
       "      <th>90</th>\n",
       "      <td>5.5</td>\n",
       "      <td>1.2</td>\n",
       "      <td>1.0</td>\n",
       "    </tr>\n",
       "    <tr>\n",
       "      <th>45</th>\n",
       "      <td>4.8</td>\n",
       "      <td>0.3</td>\n",
       "      <td>0.0</td>\n",
       "    </tr>\n",
       "    <tr>\n",
       "      <th>16</th>\n",
       "      <td>5.4</td>\n",
       "      <td>0.4</td>\n",
       "      <td>0.0</td>\n",
       "    </tr>\n",
       "    <tr>\n",
       "      <th>60</th>\n",
       "      <td>5.0</td>\n",
       "      <td>1.0</td>\n",
       "      <td>1.0</td>\n",
       "    </tr>\n",
       "    <tr>\n",
       "      <th>129</th>\n",
       "      <td>7.2</td>\n",
       "      <td>1.6</td>\n",
       "      <td>2.0</td>\n",
       "    </tr>\n",
       "  </tbody>\n",
       "</table>\n",
       "</div>"
      ],
      "text/plain": [
       "       x    y  class\n",
       "114  5.8  2.4    2.0\n",
       "62   6.0  1.0    1.0\n",
       "33   5.5  0.2    0.0\n",
       "107  7.3  1.8    2.0\n",
       "7    5.0  0.2    0.0\n",
       "100  6.3  2.5    2.0\n",
       "40   5.0  0.3    0.0\n",
       "86   6.7  1.5    1.0\n",
       "76   6.8  1.4    1.0\n",
       "71   6.1  1.3    1.0\n",
       "134  6.1  1.4    2.0\n",
       "51   6.4  1.5    1.0\n",
       "73   6.1  1.2    1.0\n",
       "54   6.5  1.5    1.0\n",
       "63   6.1  1.4    1.0\n",
       "37   4.9  0.1    0.0\n",
       "78   6.0  1.5    1.0\n",
       "90   5.5  1.2    1.0\n",
       "45   4.8  0.3    0.0\n",
       "16   5.4  0.4    0.0\n",
       "60   5.0  1.0    1.0\n",
       "129  7.2  1.6    2.0"
      ]
     },
     "execution_count": 565,
     "metadata": {},
     "output_type": "execute_result"
    }
   ],
   "source": [
    "new_dataset_train = new_dataset_train.append(df.iloc[least_confident_ix])\n",
    "new_dataset_train"
   ]
  },
  {
   "cell_type": "code",
   "execution_count": 568,
   "metadata": {},
   "outputs": [],
   "source": [
    "l = gnb()\n",
    "l.fit(new_dataset_train[['x','y']], new_dataset_train['class'])\n",
    "x_min, x_max = df['x'].values.min() - .5, df['x'].max() + .5\n",
    "y_min, y_max = df['y'].min() - .5, df['y'].max() + .5\n",
    "h = 0.1  # step size in the mesh\n",
    "xx, yy = np.meshgrid(np.arange(x_min, x_max, h), np.arange(y_min, y_max, h))\n",
    "Z = l.predict(np.c_[xx.ravel(), yy.ravel()])\n",
    "\n",
    "# Put the result into a color plot\n",
    "Z = Z.reshape(xx.shape)"
   ]
  },
  {
   "cell_type": "code",
   "execution_count": 569,
   "metadata": {},
   "outputs": [
    {
     "data": {
      "text/plain": [
       "<matplotlib.collections.QuadMesh at 0x2beda5ca9b0>"
      ]
     },
     "execution_count": 569,
     "metadata": {},
     "output_type": "execute_result"
    },
    {
     "data": {
      "image/png": "[encoded data removed]",
      "text/plain": [
       "<Figure size 432x288 with 1 Axes>"
      ]
     },
     "metadata": {
      "needs_background": "light"
     },
     "output_type": "display_data"
    }
   ],
   "source": [
    "plt.scatter(df['x'], df['y'], c= df['class'], alpha=0.4, cmap=plt.cm.Paired, edgecolors='grey', s=50 )\n",
    "plt.scatter(new_dataset_train['x'], new_dataset_train['y'], c= new_dataset_train['class'], \n",
    "            edgecolors='k', s=300, cmap=plt.cm.Paired )\n",
    "plt.pcolormesh(xx, yy, Z, cmap=plt.cm.Paired, alpha=0.2)"
   ]
  },
  {
   "cell_type": "code",
   "execution_count": 570,
   "metadata": {},
   "outputs": [
    {
     "data": {
      "text/plain": [
       "106"
      ]
     },
     "execution_count": 570,
     "metadata": {},
     "output_type": "execute_result"
    }
   ],
   "source": [
    "least_confident_ix = pd.DataFrame(l.predict_proba(df[['x','y']])).max(axis=1).idxmin()\n",
    "least_confident_ix"
   ]
  },
  {
   "cell_type": "code",
   "execution_count": 571,
   "metadata": {},
   "outputs": [
    {
     "data": {
      "text/plain": [
       "<matplotlib.collections.PathCollection at 0x2beda53b1d0>"
      ]
     },
     "execution_count": 571,
     "metadata": {},
     "output_type": "execute_result"
    },
    {
     "data": {
      "image/png": "[encoded data removed]",
      "text/plain": [
       "<Figure size 432x288 with 1 Axes>"
      ]
     },
     "metadata": {
      "needs_background": "light"
     },
     "output_type": "display_data"
    }
   ],
   "source": [
    "plt.scatter(df['x'], df['y'], c= df['class'], alpha=0.4, cmap=plt.cm.Paired, edgecolors='grey', s=50 )\n",
    "plt.scatter(dataset_train['x'], dataset_train['y'], c= dataset_train['class'], \n",
    "            edgecolors='k', s=300, cmap=plt.cm.Paired )\n",
    "plt.pcolormesh(xx, yy, Z, cmap=plt.cm.Paired, alpha=0.2)\n",
    "plt.scatter(df.iloc[least_confident_ix]['x'], df.iloc[least_confident_ix]['y'], c= 'k', \n",
    "            edgecolors='k', s=800, cmap=plt.cm.Paired )"
   ]
  },
  {
   "cell_type": "code",
   "execution_count": 572,
   "metadata": {},
   "outputs": [
    {
     "data": {
      "text/html": [
       "<div>\n",
       "<style scoped>\n",
       "    .dataframe tbody tr th:only-of-type {\n",
       "        vertical-align: middle;\n",
       "    }\n",
       "\n",
       "    .dataframe tbody tr th {\n",
       "        vertical-align: top;\n",
       "    }\n",
       "\n",
       "    .dataframe thead th {\n",
       "        text-align: right;\n",
       "    }\n",
       "</style>\n",
       "<table border=\"1\" class=\"dataframe\">\n",
       "  <thead>\n",
       "    <tr style=\"text-align: right;\">\n",
       "      <th></th>\n",
       "      <th>x</th>\n",
       "      <th>y</th>\n",
       "      <th>class</th>\n",
       "    </tr>\n",
       "  </thead>\n",
       "  <tbody>\n",
       "    <tr>\n",
       "      <th>114</th>\n",
       "      <td>5.8</td>\n",
       "      <td>2.4</td>\n",
       "      <td>2.0</td>\n",
       "    </tr>\n",
       "    <tr>\n",
       "      <th>62</th>\n",
       "      <td>6.0</td>\n",
       "      <td>1.0</td>\n",
       "      <td>1.0</td>\n",
       "    </tr>\n",
       "    <tr>\n",
       "      <th>33</th>\n",
       "      <td>5.5</td>\n",
       "      <td>0.2</td>\n",
       "      <td>0.0</td>\n",
       "    </tr>\n",
       "    <tr>\n",
       "      <th>107</th>\n",
       "      <td>7.3</td>\n",
       "      <td>1.8</td>\n",
       "      <td>2.0</td>\n",
       "    </tr>\n",
       "    <tr>\n",
       "      <th>7</th>\n",
       "      <td>5.0</td>\n",
       "      <td>0.2</td>\n",
       "      <td>0.0</td>\n",
       "    </tr>\n",
       "    <tr>\n",
       "      <th>100</th>\n",
       "      <td>6.3</td>\n",
       "      <td>2.5</td>\n",
       "      <td>2.0</td>\n",
       "    </tr>\n",
       "    <tr>\n",
       "      <th>40</th>\n",
       "      <td>5.0</td>\n",
       "      <td>0.3</td>\n",
       "      <td>0.0</td>\n",
       "    </tr>\n",
       "    <tr>\n",
       "      <th>86</th>\n",
       "      <td>6.7</td>\n",
       "      <td>1.5</td>\n",
       "      <td>1.0</td>\n",
       "    </tr>\n",
       "    <tr>\n",
       "      <th>76</th>\n",
       "      <td>6.8</td>\n",
       "      <td>1.4</td>\n",
       "      <td>1.0</td>\n",
       "    </tr>\n",
       "    <tr>\n",
       "      <th>71</th>\n",
       "      <td>6.1</td>\n",
       "      <td>1.3</td>\n",
       "      <td>1.0</td>\n",
       "    </tr>\n",
       "    <tr>\n",
       "      <th>134</th>\n",
       "      <td>6.1</td>\n",
       "      <td>1.4</td>\n",
       "      <td>2.0</td>\n",
       "    </tr>\n",
       "    <tr>\n",
       "      <th>51</th>\n",
       "      <td>6.4</td>\n",
       "      <td>1.5</td>\n",
       "      <td>1.0</td>\n",
       "    </tr>\n",
       "    <tr>\n",
       "      <th>73</th>\n",
       "      <td>6.1</td>\n",
       "      <td>1.2</td>\n",
       "      <td>1.0</td>\n",
       "    </tr>\n",
       "    <tr>\n",
       "      <th>54</th>\n",
       "      <td>6.5</td>\n",
       "      <td>1.5</td>\n",
       "      <td>1.0</td>\n",
       "    </tr>\n",
       "    <tr>\n",
       "      <th>63</th>\n",
       "      <td>6.1</td>\n",
       "      <td>1.4</td>\n",
       "      <td>1.0</td>\n",
       "    </tr>\n",
       "    <tr>\n",
       "      <th>37</th>\n",
       "      <td>4.9</td>\n",
       "      <td>0.1</td>\n",
       "      <td>0.0</td>\n",
       "    </tr>\n",
       "    <tr>\n",
       "      <th>78</th>\n",
       "      <td>6.0</td>\n",
       "      <td>1.5</td>\n",
       "      <td>1.0</td>\n",
       "    </tr>\n",
       "    <tr>\n",
       "      <th>90</th>\n",
       "      <td>5.5</td>\n",
       "      <td>1.2</td>\n",
       "      <td>1.0</td>\n",
       "    </tr>\n",
       "    <tr>\n",
       "      <th>45</th>\n",
       "      <td>4.8</td>\n",
       "      <td>0.3</td>\n",
       "      <td>0.0</td>\n",
       "    </tr>\n",
       "    <tr>\n",
       "      <th>16</th>\n",
       "      <td>5.4</td>\n",
       "      <td>0.4</td>\n",
       "      <td>0.0</td>\n",
       "    </tr>\n",
       "    <tr>\n",
       "      <th>60</th>\n",
       "      <td>5.0</td>\n",
       "      <td>1.0</td>\n",
       "      <td>1.0</td>\n",
       "    </tr>\n",
       "    <tr>\n",
       "      <th>129</th>\n",
       "      <td>7.2</td>\n",
       "      <td>1.6</td>\n",
       "      <td>2.0</td>\n",
       "    </tr>\n",
       "    <tr>\n",
       "      <th>106</th>\n",
       "      <td>4.9</td>\n",
       "      <td>1.7</td>\n",
       "      <td>2.0</td>\n",
       "    </tr>\n",
       "  </tbody>\n",
       "</table>\n",
       "</div>"
      ],
      "text/plain": [
       "       x    y  class\n",
       "114  5.8  2.4    2.0\n",
       "62   6.0  1.0    1.0\n",
       "33   5.5  0.2    0.0\n",
       "107  7.3  1.8    2.0\n",
       "7    5.0  0.2    0.0\n",
       "100  6.3  2.5    2.0\n",
       "40   5.0  0.3    0.0\n",
       "86   6.7  1.5    1.0\n",
       "76   6.8  1.4    1.0\n",
       "71   6.1  1.3    1.0\n",
       "134  6.1  1.4    2.0\n",
       "51   6.4  1.5    1.0\n",
       "73   6.1  1.2    1.0\n",
       "54   6.5  1.5    1.0\n",
       "63   6.1  1.4    1.0\n",
       "37   4.9  0.1    0.0\n",
       "78   6.0  1.5    1.0\n",
       "90   5.5  1.2    1.0\n",
       "45   4.8  0.3    0.0\n",
       "16   5.4  0.4    0.0\n",
       "60   5.0  1.0    1.0\n",
       "129  7.2  1.6    2.0\n",
       "106  4.9  1.7    2.0"
      ]
     },
     "execution_count": 572,
     "metadata": {},
     "output_type": "execute_result"
    }
   ],
   "source": [
    "new_dataset_train = new_dataset_train.append(df.iloc[least_confident_ix])\n",
    "new_dataset_train"
   ]
  },
  {
   "cell_type": "code",
   "execution_count": 573,
   "metadata": {},
   "outputs": [
    {
     "name": "stderr",
     "output_type": "stream",
     "text": [
      "c:\\users\\karan\\appdata\\local\\programs\\python\\python37\\lib\\site-packages\\sklearn\\linear_model\\logistic.py:433: FutureWarning: Default solver will be changed to 'lbfgs' in 0.22. Specify a solver to silence this warning.\n",
      "  FutureWarning)\n",
      "c:\\users\\karan\\appdata\\local\\programs\\python\\python37\\lib\\site-packages\\sklearn\\linear_model\\logistic.py:460: FutureWarning: Default multi_class will be changed to 'auto' in 0.22. Specify the multi_class option to silence this warning.\n",
      "  \"this warning.\", FutureWarning)\n"
     ]
    }
   ],
   "source": [
    "l = LogisticRegression()\n",
    "l.fit(new_dataset_train[['x','y']], new_dataset_train['class'])\n",
    "x_min, x_max = df['x'].values.min() - .5, df['x'].max() + .5\n",
    "y_min, y_max = df['y'].min() - .5, df['y'].max() + .5\n",
    "h = 0.1  # step size in the mesh\n",
    "xx, yy = np.meshgrid(np.arange(x_min, x_max, h), np.arange(y_min, y_max, h))\n",
    "Z = l.predict(np.c_[xx.ravel(), yy.ravel()])\n",
    "\n",
    "# Put the result into a color plot\n",
    "Z = Z.reshape(xx.shape)"
   ]
  },
  {
   "cell_type": "code",
   "execution_count": 574,
   "metadata": {},
   "outputs": [
    {
     "data": {
      "text/plain": [
       "<matplotlib.collections.QuadMesh at 0x2bed9240b00>"
      ]
     },
     "execution_count": 574,
     "metadata": {},
     "output_type": "execute_result"
    },
    {
     "data": {
      "image/png": "[encoded data removed]",
      "text/plain": [
       "<Figure size 432x288 with 1 Axes>"
      ]
     },
     "metadata": {
      "needs_background": "light"
     },
     "output_type": "display_data"
    }
   ],
   "source": [
    "plt.scatter(df['x'], df['y'], c= df['class'], alpha=0.4, cmap=plt.cm.Paired, edgecolors='grey', s=50 )\n",
    "plt.scatter(new_dataset_train['x'], new_dataset_train['y'], c= new_dataset_train['class'], \n",
    "            edgecolors='k', s=300, cmap=plt.cm.Paired )\n",
    "plt.pcolormesh(xx, yy, Z, cmap=plt.cm.Paired, alpha=0.2)"
   ]
  },
  {
   "cell_type": "markdown",
   "metadata": {},
   "source": [
    "### (3)"
   ]
  },
  {
   "cell_type": "code",
   "execution_count": null,
   "metadata": {},
   "outputs": [],
   "source": [
    "df=pd.read_csv('submission.csv')\n",
    "dataset_train = df.sample(n=20, random_state=0)\n",
    "dataset_train"
   ]
  },
  {
   "cell_type": "code",
   "execution_count": 535,
   "metadata": {},
   "outputs": [
    {
     "name": "stdout",
     "output_type": "stream",
     "text": [
      "(10, 5)\n",
      "[[0.21213203 0.14142136]\n",
      " [0.25166115 0.1       ]\n",
      " [0.6503845  0.33166248]]\n",
      "(10, 5)\n",
      "10\n",
      "Number of correctly classified points in Implementation of Navie Bayes:  38\n",
      "Number of incorrectly classified points in Implementation of Navie Bayes:  7\n",
      "==========================================================================================\n",
      "0.8444444444444444\n",
      "(20, 5)\n",
      "[[0.33714487 0.09831921]\n",
      " [0.22173558 0.12909944]\n",
      " [0.70364132 0.33333333]]\n",
      "(10, 5)\n",
      "10\n",
      "Number of correctly classified points in Implementation of Navie Bayes:  39\n",
      "Number of incorrectly classified points in Implementation of Navie Bayes:  6\n",
      "==========================================================================================\n",
      "0.8666666666666667\n",
      "(30, 5)\n",
      "[[0.42654946 0.10137938]\n",
      " [0.22951813 0.16690459]\n",
      " [0.73318763 0.29569562]]\n",
      "(10, 5)\n",
      "10\n",
      "Number of correctly classified points in Implementation of Navie Bayes:  41\n",
      "Number of incorrectly classified points in Implementation of Navie Bayes:  4\n",
      "==========================================================================================\n",
      "0.9111111111111111\n",
      "(40, 5)\n",
      "[[0.40606513 0.10749677]\n",
      " [0.26505926 0.1493576 ]\n",
      " [0.73224072 0.27399549]]\n",
      "(10, 5)\n",
      "10\n",
      "Number of correctly classified points in Implementation of Navie Bayes:  43\n",
      "Number of incorrectly classified points in Implementation of Navie Bayes:  2\n",
      "==========================================================================================\n",
      "0.9555555555555556\n",
      "(50, 5)\n",
      "[[0.37758632 0.08837151]\n",
      " [0.33651413 0.17415416]\n",
      " [0.69130656 0.25560386]]\n",
      "(10, 5)\n",
      "10\n",
      "Number of correctly classified points in Implementation of Navie Bayes:  43\n",
      "Number of incorrectly classified points in Implementation of Navie Bayes:  2\n",
      "==========================================================================================\n",
      "0.9555555555555556\n"
     ]
    }
   ],
   "source": [
    "\n",
    "\n",
    "np.random.seed(lp)\n",
    "d1 = df[['sepal_length','petal_width']].tail(45).values\n",
    "y = df['species'].tail(45).values\n",
    "#print(len(d1))\n",
    "l = 0\n",
    "count = 0\n",
    "mp = 16\n",
    "p=0\n",
    "accuracy1 = []\n",
    "for i in range(0,5):\n",
    "    p = p+1\n",
    "    if count!=0:\n",
    "        frames = [data,x1]\n",
    "        data = pd.concat(frames)\n",
    "    else:\n",
    "        data = df.head(10)\n",
    "    count = count+1\n",
    "\n",
    "\n",
    "    print(data.shape)\n",
    "    count = count+1\n",
    "    data_mean = data.groupby('species', as_index=False)['sepal_length','petal_width'].mean()\n",
    "    data_std = data.groupby('species')['sepal_length','petal_width'].std()\n",
    "    #y = data['species']\n",
    "    std = data_std.values\n",
    "    m = data_mean.values\n",
    "    print(std)\n",
    "    #print(m)\n",
    "   # print(data_std)\n",
    "    s11 = std[0][0]\n",
    "    s12 = std[0][1]\n",
    "    s21 = std[1][0]\n",
    "    s22 = std[1][1]\n",
    "    s31 = std[2][0]\n",
    "    s32 = std[2][1]\n",
    "    m11 = m[0][1]\n",
    "    m12 = m[0][2]\n",
    "    m21 = m[1][1]\n",
    "    m22 = m[1][2]\n",
    "    m31 = m[2][1]\n",
    "    m32 = m[2][2]\n",
    "    #probability = []\n",
    "    probability = cal_prob(d1,m11,s11,m21,s21,m31,s31,m12,s12,m22,s22,m32,s32)\n",
    "    l = l+10\n",
    "    y_hat = []\n",
    "    for i in probability:\n",
    "            num1 = i[0]\n",
    "            num2 = i[1]\n",
    "            num3 = i[2]\n",
    "            if (num1 >= num2) and (num1 >= num3):\n",
    "                y_hat.append(\"setosa\")# = num1\n",
    "            elif (num2 >= num1) and (num2 >= num3):\n",
    "                y_hat.append(\"versicolor\")#largest = num2\n",
    "            else:\n",
    "                y_hat.append(\"virginica\")\n",
    "    true_predicted = 0\n",
    "    false_predicted = 0\n",
    "\n",
    "    for d in range(0,45):\n",
    "            if y[d]==y_hat[d]:\n",
    "                true_predicted+=1\n",
    "            else:\n",
    "                false_predicted+=1\n",
    "\n",
    "    #x_p = df.iloc[l+15:l+20]\n",
    "    #print(x_p)\n",
    "    x_p = df.sample(n=10,random_state=p,replace = False)\n",
    "    prob_x_p = cal_prob(x_p[['sepal_length','petal_width']].values,m11,s11,m21,s21,m31,s31,m12,s12,m22,s22,m32,s32)\n",
    "    num1 = prob_x_p[0][0]\n",
    "    num2 = prob_x_p[0][1]\n",
    "    num3 = prob_x_p[0][2]\n",
    "    y_p = []\n",
    "    for i in prob_x_p:\n",
    "            num1 = i[0]\n",
    "            num2 = i[1]\n",
    "            num3 = i[2]\n",
    "            if (num1 >= num2) and (num1 >= num3):\n",
    "                y_p.append(\"setosa\")\n",
    "            elif (num2 >= num1) and (num2 >= num3):\n",
    "                y_p.append(\"versicolor\")\n",
    "            else:\n",
    "                y_p.append(\"virginica\")\n",
    "    x1 = x_p\n",
    "    print(x1.shape)\n",
    "    print(len(y_p))\n",
    "    x1 = x1.drop(['species'],axis=1)\n",
    "    x1['species'] = y_p\n",
    "    print(\"Number of correctly classified points in Implementation of Navie Bayes: \",true_predicted)\n",
    "    print(\"Number of incorrectly classified points in Implementation of Navie Bayes: \",false_predicted)\n",
    "    print(\"===\"*30)\n",
    "\n",
    "    x =(true_predicted/(true_predicted+false_predicted))\n",
    "    print(x)\n",
    "    accuracy1.append(x)\n"
   ]
  },
  {
   "cell_type": "code",
   "execution_count": 543,
   "metadata": {},
   "outputs": [
    {
     "data": {
      "text/plain": [
       "[0.8444444444444444,\n",
       " 0.8666666666666667,\n",
       " 0.9111111111111111,\n",
       " 0.9555555555555556,\n",
       " 0.9555555555555556]"
      ]
     },
     "execution_count": 543,
     "metadata": {},
     "output_type": "execute_result"
    }
   ],
   "source": [
    "accuracy1"
   ]
  },
  {
   "cell_type": "code",
   "execution_count": 544,
   "metadata": {},
   "outputs": [
    {
     "data": {
      "text/plain": [
       "[0.8528888888888889,\n",
       " 0.8386666666666667,\n",
       " 0.8926666666666667,\n",
       " 0.9013333333333334,\n",
       " 0.9566666666666667]"
      ]
     },
     "execution_count": 544,
     "metadata": {},
     "output_type": "execute_result"
    }
   ],
   "source": [
    "accuracy"
   ]
  },
  {
   "cell_type": "code",
   "execution_count": 575,
   "metadata": {},
   "outputs": [
    {
     "data": {
      "image/png": "[encoded data removed]",
      "text/plain": [
       "<Figure size 432x288 with 1 Axes>"
      ]
     },
     "metadata": {
      "needs_background": "light"
     },
     "output_type": "display_data"
    }
   ],
   "source": [
    "plt.plot([1,2,3,4,5],accuracy)\n",
    "plt.plot([1,2,3,4,5],accuracy1)\n",
    "plt.title(\"Accuracy vs No of queries\")\n",
    "plt.xlabel(\"no of queries\")\n",
    "plt.ylabel(\"accuracy\")\n",
    "plt.legend([\"Random graph\",\"Mean Std\"])\n",
    "plt.show()"
   ]
  },
  {
   "cell_type": "markdown",
   "metadata": {},
   "source": [
    "1. From the above graph we can see that we are getting an increase in accuracy as the no of queries are increasing as my training data is increasing. \n",
    "2. I am getting higher acc in case when i am using mean std."
   ]
  }
 ],
 "metadata": {
  "kernelspec": {
   "display_name": "Python 3",
   "language": "python",
   "name": "python3"
  },
  "language_info": {
   "codemirror_mode": {
    "name": "ipython",
    "version": 3
   },
   "file_extension": ".py",
   "mimetype": "text/x-python",
   "name": "python",
   "nbconvert_exporter": "python",
   "pygments_lexer": "ipython3",
   "version": "3.7.0"
  }
 },
 "nbformat": 4,
 "nbformat_minor": 2
}
